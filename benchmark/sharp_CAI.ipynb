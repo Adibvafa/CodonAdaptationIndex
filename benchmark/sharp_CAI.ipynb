{
 "cells": [
  {
   "cell_type": "markdown",
   "metadata": {},
   "source": [
    "## Calculating Codon Adaptation Index according (CAI) according to Sharp et al. 1987\n",
    "\n",
    "The codon adaptation index (CAI) measures the level of adaptation of a gene to a certain organism. \n",
    "\n",
    "It was first introduced by [Sharp 1987](https://www.ncbi.nlm.nih.gov/pubmed/3547335). CAI measures the deviation of the codons in a given protein coding gene sequence with respect to the codons used in a reference set of genes. See the [wikipedia](https://en.wikipedia.org/wiki/Codon_Adaptation_Index) article on CAI.\n",
    "\n",
    "There are at least two python implementations for calculating CAI.\n",
    "\n",
    "[Biopython](http://biopython.org) has a module called [CodonUsage](http://biopython.org/DIST/docs/api/Bio.SeqUtils.CodonUsage.CodonAdaptationIndex-class.html). This module does not contain any of the necessary reference data in order to calculate CAI for yeast. \n",
    "Worse, the fidelity of the Biopython module had been questioned in this exchange on [Biostars](https://www.biostars.org/p/290485/).\n",
    "\n",
    "The python module [CAI](https://pypi.org/project/CAI/) is an alternative implementation.\n",
    "\n",
    "The purpose of this notebook is to test the fidelity of both the Biopython and CAI modules using the original data from Sharp 1987.\n",
    "\n",
    "Codon adaptation data was tabulated in Table 1 [Sharp 1987](https://www.ncbi.nlm.nih.gov/pubmed/3547335).\n",
    "\n",
    "![Sharp Table 1](sharp_table_1.png)"
   ]
  },
  {
   "cell_type": "markdown",
   "metadata": {},
   "source": [
    "The Sharp Table 1 was copied and edited from the pdf version of the publication. \n",
    "\n",
    "The order of the columns remains the same.\n",
    "\n",
    "RSCU and weights (w) are tabulated for 61 of the 64 codons (missing are the stop codons TAA, TAG and TGA).\n",
    "\n",
    "\n",
    "\n",
    "\n"
   ]
  },
  {
   "cell_type": "code",
   "execution_count": 1,
   "metadata": {},
   "outputs": [],
   "source": [
    "sharp_table_1 = \"\"\"\n",
    "AA Tri RSCUe we RSCUy wy\n",
    "Phe TTT 0.456 0.296 0.203 0.113\n",
    "Phe TTC 1.544 1.000 1.797 1.000\n",
    "Leu TTA 0.106 0.020 0.601 0.117\n",
    "Leu TTG 0.106 0.020 5.141 1.000\n",
    "Leu CTT 0.225 0.042 0.029 0.006\n",
    "Leu CTC 0.198 0.037 0.014 0.003\n",
    "Leu CTA 0.040 0.007 0.200 0.039\n",
    "Leu CTG 5.326 1.000 0.014 0.003\n",
    "Ile ATT 0.466 0.185 1.352 0.823\n",
    "Ile ATC 2.525 1.000 1.643 1.000\n",
    "Ile ATA 0.008 0.003 0.005 0.003\n",
    "Met ATG 1.000 1.000 1.000 1.000\n",
    "Val GTT 2.244 1.000 2.161 1.000\n",
    "Val GTC 0.148 0.066 1.796 0.831\n",
    "Val GTA 1.111 0.495 0.004 0.002\n",
    "Val GTG 0.496 0.221 0.039 0.018\n",
    "Ser TCT 2.571 1.000 3.359 1.000\n",
    "Ser TCC 1.912 0.744 2.327 0.693\n",
    "Ser TCA 0.198 0.077 0.122 0.036\n",
    "Ser TCG 0.044 0.017 0.017 0.005\n",
    "Pro CCT 0.231 0.070 0.179 0.047\n",
    "Pro CCC 0.038 0.012 0.036 0.009\n",
    "Pro CCA 0.442 0.135 3.776 1.000\n",
    "Pro CCG 3.288 1.000 0.009 0.002\n",
    "Thr ACT 1.804 0.965 1.899 0.921\n",
    "Thr ACC 1.870 1.000 2.063 1.000\n",
    "Thr ACA 0.141 0.076 0.025 0.012\n",
    "Thr ACG 0.185 0.099 0.013 0.006\n",
    "Ala GCT 1.877 1.000 3.005 1.000\n",
    "Ala GCC 0.228 0.122 0.948 0.316\n",
    "Ala GCA 1.099 0.586 0.044 0.015\n",
    "Ala GCG 0.796 0.424 0.004 0.001\n",
    "Tyr TAT 0.386 0.239 0.132 0.071\n",
    "Tyr TAC 1.614 1.000 1.868 1.000\n",
    "His CAT 0.451 0.291 0.394 0.245\n",
    "His CAC 1.549 1.000 1.606 1.000\n",
    "Gln CAA 0.220 0.124 1.987 1.000\n",
    "Gln CAG 1.780 1.000 0.013 0.007\n",
    "Asn AAT 0.097 0.051 0.100 0.053\n",
    "Asn AAC 1.903 1.000 1.900 1.000\n",
    "Lys AAA 1.596 1.000 0.237 0.135\n",
    "Lys AAG 0.404 0.253 1.763 1.000\n",
    "Asp GAT 0.605 0.434 0.713 0.554\n",
    "Asp GAC 1.395 1.000 1.287 1.000\n",
    "Glu GAA 1.589 1.000 1.968 1.000\n",
    "Glu GAG 0.411 0.259 0.032 0.016\n",
    "Cys TGT 0.667 0.500 1.857 1.000\n",
    "Cys TGC 1.333 1.000 0.143 0.077\n",
    "Trp TGG 1.000 1.000 1.000 1.000\n",
    "Arg CGT 4.380 1.000 0.718 0.137\n",
    "Arg CGC 1.561 0.356 0.008 0.002\n",
    "Arg CGA 0.017 0.004 0.008 0.002\n",
    "Arg CGG 0.017 0.004 0.008 0.002\n",
    "Ser AGT 0.220 0.085 0.070 0.021\n",
    "Ser AGC 1.055 0.410 0.105 0.031\n",
    "Arg AGA 0.017 0.004 5.241 1.000\n",
    "Arg AGG 0.008 0.002 0.017 0.003\n",
    "Gly GGT 2.283 1.000 3.898 1.000\n",
    "Gly GGC 1.652 0.724 0.077 0.020\n",
    "Gly GGA 0.022 0.010 0.009 0.002\n",
    "Gly GGG 0.043 0.019 0.017 0.004\"\"\""
   ]
  },
  {
   "cell_type": "markdown",
   "metadata": {},
   "source": [
    "Pandas can turn this text table into a dataframe"
   ]
  },
  {
   "cell_type": "code",
   "execution_count": 2,
   "metadata": {},
   "outputs": [],
   "source": [
    "import pandas as pd\n",
    "from io import StringIO"
   ]
  },
  {
   "cell_type": "code",
   "execution_count": 3,
   "metadata": {},
   "outputs": [],
   "source": [
    "sharp_df = pd.read_csv(StringIO(sharp_table_1.strip()), sep=\" \")"
   ]
  },
  {
   "cell_type": "markdown",
   "metadata": {},
   "source": [
    "The resulting dataframe seem to reflect the original table above."
   ]
  },
  {
   "cell_type": "code",
   "execution_count": 79,
   "metadata": {},
   "outputs": [
    {
     "data": {
      "text/html": [
       "<div>\n",
       "<style scoped>\n",
       "    .dataframe tbody tr th:only-of-type {\n",
       "        vertical-align: middle;\n",
       "    }\n",
       "\n",
       "    .dataframe tbody tr th {\n",
       "        vertical-align: top;\n",
       "    }\n",
       "\n",
       "    .dataframe thead th {\n",
       "        text-align: right;\n",
       "    }\n",
       "</style>\n",
       "<table border=\"1\" class=\"dataframe\">\n",
       "  <thead>\n",
       "    <tr style=\"text-align: right;\">\n",
       "      <th></th>\n",
       "      <th>AA</th>\n",
       "      <th>Tri</th>\n",
       "      <th>RSCUe</th>\n",
       "      <th>we</th>\n",
       "      <th>RSCUy</th>\n",
       "      <th>wy</th>\n",
       "    </tr>\n",
       "  </thead>\n",
       "  <tbody>\n",
       "    <tr>\n",
       "      <th>0</th>\n",
       "      <td>Phe</td>\n",
       "      <td>TTT</td>\n",
       "      <td>0.456</td>\n",
       "      <td>0.296</td>\n",
       "      <td>0.203</td>\n",
       "      <td>0.113</td>\n",
       "    </tr>\n",
       "    <tr>\n",
       "      <th>1</th>\n",
       "      <td>Phe</td>\n",
       "      <td>TTC</td>\n",
       "      <td>1.544</td>\n",
       "      <td>1.000</td>\n",
       "      <td>1.797</td>\n",
       "      <td>1.000</td>\n",
       "    </tr>\n",
       "    <tr>\n",
       "      <th>2</th>\n",
       "      <td>Leu</td>\n",
       "      <td>TTA</td>\n",
       "      <td>0.106</td>\n",
       "      <td>0.020</td>\n",
       "      <td>0.601</td>\n",
       "      <td>0.117</td>\n",
       "    </tr>\n",
       "    <tr>\n",
       "      <th>3</th>\n",
       "      <td>Leu</td>\n",
       "      <td>TTG</td>\n",
       "      <td>0.106</td>\n",
       "      <td>0.020</td>\n",
       "      <td>5.141</td>\n",
       "      <td>1.000</td>\n",
       "    </tr>\n",
       "    <tr>\n",
       "      <th>4</th>\n",
       "      <td>Leu</td>\n",
       "      <td>CTT</td>\n",
       "      <td>0.225</td>\n",
       "      <td>0.042</td>\n",
       "      <td>0.029</td>\n",
       "      <td>0.006</td>\n",
       "    </tr>\n",
       "    <tr>\n",
       "      <th>...</th>\n",
       "      <td>...</td>\n",
       "      <td>...</td>\n",
       "      <td>...</td>\n",
       "      <td>...</td>\n",
       "      <td>...</td>\n",
       "      <td>...</td>\n",
       "    </tr>\n",
       "    <tr>\n",
       "      <th>56</th>\n",
       "      <td>Arg</td>\n",
       "      <td>AGG</td>\n",
       "      <td>0.008</td>\n",
       "      <td>0.002</td>\n",
       "      <td>0.017</td>\n",
       "      <td>0.003</td>\n",
       "    </tr>\n",
       "    <tr>\n",
       "      <th>57</th>\n",
       "      <td>Gly</td>\n",
       "      <td>GGT</td>\n",
       "      <td>2.283</td>\n",
       "      <td>1.000</td>\n",
       "      <td>3.898</td>\n",
       "      <td>1.000</td>\n",
       "    </tr>\n",
       "    <tr>\n",
       "      <th>58</th>\n",
       "      <td>Gly</td>\n",
       "      <td>GGC</td>\n",
       "      <td>1.652</td>\n",
       "      <td>0.724</td>\n",
       "      <td>0.077</td>\n",
       "      <td>0.020</td>\n",
       "    </tr>\n",
       "    <tr>\n",
       "      <th>59</th>\n",
       "      <td>Gly</td>\n",
       "      <td>GGA</td>\n",
       "      <td>0.022</td>\n",
       "      <td>0.010</td>\n",
       "      <td>0.009</td>\n",
       "      <td>0.002</td>\n",
       "    </tr>\n",
       "    <tr>\n",
       "      <th>60</th>\n",
       "      <td>Gly</td>\n",
       "      <td>GGG</td>\n",
       "      <td>0.043</td>\n",
       "      <td>0.019</td>\n",
       "      <td>0.017</td>\n",
       "      <td>0.004</td>\n",
       "    </tr>\n",
       "  </tbody>\n",
       "</table>\n",
       "<p>61 rows × 6 columns</p>\n",
       "</div>"
      ],
      "text/plain": [
       "     AA  Tri  RSCUe     we  RSCUy     wy\n",
       "0   Phe  TTT  0.456  0.296  0.203  0.113\n",
       "1   Phe  TTC  1.544  1.000  1.797  1.000\n",
       "2   Leu  TTA  0.106  0.020  0.601  0.117\n",
       "3   Leu  TTG  0.106  0.020  5.141  1.000\n",
       "4   Leu  CTT  0.225  0.042  0.029  0.006\n",
       "..  ...  ...    ...    ...    ...    ...\n",
       "56  Arg  AGG  0.008  0.002  0.017  0.003\n",
       "57  Gly  GGT  2.283  1.000  3.898  1.000\n",
       "58  Gly  GGC  1.652  0.724  0.077  0.020\n",
       "59  Gly  GGA  0.022  0.010  0.009  0.002\n",
       "60  Gly  GGG  0.043  0.019  0.017  0.004\n",
       "\n",
       "[61 rows x 6 columns]"
      ]
     },
     "execution_count": 79,
     "metadata": {},
     "output_type": "execute_result"
    }
   ],
   "source": [
    "sharp_df"
   ]
  },
  {
   "cell_type": "markdown",
   "metadata": {},
   "source": [
    "Each row is combined into a dict"
   ]
  },
  {
   "cell_type": "code",
   "execution_count": 64,
   "metadata": {},
   "outputs": [],
   "source": [
    "RSCUe = dict(zip(sharp_df[\"Tri\"],round(sharp_df[\"RSCUe\"],3)))\n",
    "we = dict(zip(sharp_df[\"Tri\"],round(sharp_df[\"we\"],3)))\n",
    "RSCUy = dict(zip(sharp_df[\"Tri\"],round(sharp_df[\"RSCUy\"],3)))\n",
    "wy = dict(zip(sharp_df[\"Tri\"],round(sharp_df[\"wy\"],3)))"
   ]
  },
  {
   "cell_type": "code",
   "execution_count": 68,
   "metadata": {},
   "outputs": [
    {
     "data": {
      "text/plain": [
       "0.456"
      ]
     },
     "execution_count": 68,
     "metadata": {},
     "output_type": "execute_result"
    }
   ],
   "source": [
    "RSCUe[\"TTT\"]"
   ]
  },
  {
   "cell_type": "code",
   "execution_count": 69,
   "metadata": {},
   "outputs": [
    {
     "data": {
      "text/plain": [
       "0.296"
      ]
     },
     "execution_count": 69,
     "metadata": {},
     "output_type": "execute_result"
    }
   ],
   "source": [
    "we[\"TTT\"]"
   ]
  },
  {
   "cell_type": "markdown",
   "metadata": {},
   "source": [
    "The `we` dict should be the same as the `SharpEcoliIndex` from biopython"
   ]
  },
  {
   "cell_type": "code",
   "execution_count": 70,
   "metadata": {},
   "outputs": [],
   "source": [
    "from Bio.SeqUtils.CodonUsageIndices import SharpEcoliIndex"
   ]
  },
  {
   "cell_type": "markdown",
   "metadata": {},
   "source": [
    "This is actually so:"
   ]
  },
  {
   "cell_type": "code",
   "execution_count": 71,
   "metadata": {},
   "outputs": [
    {
     "data": {
      "text/plain": [
       "True"
      ]
     },
     "execution_count": 71,
     "metadata": {},
     "output_type": "execute_result"
    }
   ],
   "source": [
    "SharpEcoliIndex == we"
   ]
  },
  {
   "cell_type": "markdown",
   "metadata": {},
   "source": [
    "Some examples of CAI values calculated from genes \n",
    "for _E. coli_ and _S. cerevisiae_ genes \n",
    "are given in table 2 of Sharp 1987. \n",
    "\n",
    "\n",
    "[![Sharp Table 2](sharp_table_2.png)](sharp_table_2.png)\n",
    "\n",
    "\n",
    "The table was transferred to text format:\n",
    "\n",
    "\n",
    "| E.coli \t|             \t| yeast      \t|             \t|\n",
    "|--------\t|-------------\t|------------\t|-------------\t|\n",
    "| gene   \t| CAI         \t| gene       \t| CAI         \t|\n",
    "| 17 RPs \t| 0.467-0.813 \t| 16 RPs     \t| 0.529-0.915 \t|\n",
    "| rpsU   \t| 0.726       \t| histones   \t| 0.529-0.915 \t|\n",
    "| rpoD   \t| 0.582       \t| 2u plasmid \t| 0.099-0.106 \t|\n",
    "| dnaG   \t| 0.271       \t| GAL4       \t| 0.116       \t|\n",
    "| lacI   \t| 0.296       \t| PPR1       \t| 0.114       \t|\n",
    "| trpR   \t| 0.267       \t| GPD1      \t| 0.929       \t|\n",
    "| lpp    \t| 0.849       \t| matA2      \t| 0.098       \t|\n",
    "| hsdS   \t| 0.218       \t|            \t|             \t|\n",
    "|        \t|             \t|            \t|             \t|\n",
    "|        \t|             \t|            \t|             \t|\n",
    "\n",
    "\n",
    "The rpsU gene i given as an example on page 1285. The sequence is available from NC_000913 REGION: 3210781..3210996.\n",
    "\n",
    "    atg ccg gta att aaa gta cgtgaaaacgagccgttcgacgtagctctgcgtcgctt\n",
    "       .CCG.GTA.ATT.AAA.GTA.\n",
    "       ---===---===---\n",
    "    caagcgttcctgcgaaaaagcaggtgttctggcggaagttcgtcgtcgtgagttctatgaaaaaccgactaccgaacgtaagcg\n",
    "    cgctaaagcttctgcagtgaaacgtcacgcgaagaaactggctcgcgaaaacgcacgccgcactcgtctgtactaa"
   ]
  },
  {
   "cell_type": "code",
   "execution_count": 9,
   "metadata": {},
   "outputs": [],
   "source": [
    "from pydna.genbank import genbank"
   ]
  },
  {
   "cell_type": "code",
   "execution_count": 10,
   "metadata": {},
   "outputs": [
    {
     "name": "stdout",
     "output_type": "stream",
     "text": [
      "ATGCCGGTAATTAAAGTACGTGAAAACGAGCCGTTCGACGTAGCTCTGCGTCGCTTCAAGCGTTCCTGCGAAAAAGCAGGTGTTCTGGCGGAAGTTCGTCGTCGTGAGTTCTATGAAAAACCGACTACCGAACGTAAGCGCGCTAAAGCTTCTGCAGTGAAACGTCACGCGAAGAAACTGGCTCGCGAAAACGCACGCCGCACTCGTCTGTACTAA\n"
     ]
    }
   ],
   "source": [
    "rpsU = str(genbank(\"NC_000913 REGION: 3210781..3210996\").seq)\n",
    "print(rpsU)"
   ]
  },
  {
   "cell_type": "markdown",
   "metadata": {},
   "source": [
    "The data can be used to test the prediction of the biopython module."
   ]
  },
  {
   "cell_type": "code",
   "execution_count": 72,
   "metadata": {},
   "outputs": [],
   "source": [
    "from Bio.SeqUtils.CodonUsage import CodonAdaptationIndex"
   ]
  },
  {
   "cell_type": "code",
   "execution_count": 73,
   "metadata": {},
   "outputs": [],
   "source": [
    "cai = CodonAdaptationIndex()"
   ]
  },
  {
   "cell_type": "code",
   "execution_count": 74,
   "metadata": {},
   "outputs": [],
   "source": [
    "cai.set_cai_index(we)"
   ]
  },
  {
   "cell_type": "code",
   "execution_count": 75,
   "metadata": {},
   "outputs": [
    {
     "data": {
      "text/plain": [
       "0.723"
      ]
     },
     "execution_count": 75,
     "metadata": {},
     "output_type": "execute_result"
    }
   ],
   "source": [
    "round(cai.cai_for_gene(rpsU), 3)"
   ]
  },
  {
   "cell_type": "markdown",
   "metadata": {},
   "source": [
    "The biopython module show a small difference, 0.723 instead of 0.726"
   ]
  },
  {
   "cell_type": "markdown",
   "metadata": {},
   "source": [
    "The CAI module calculates the same value for rpsU as given in the paper."
   ]
  },
  {
   "cell_type": "markdown",
   "metadata": {},
   "source": [
    "from CAI import CAI"
   ]
  },
  {
   "cell_type": "code",
   "execution_count": 77,
   "metadata": {},
   "outputs": [
    {
     "data": {
      "text/plain": [
       "0.726"
      ]
     },
     "execution_count": 77,
     "metadata": {},
     "output_type": "execute_result"
    }
   ],
   "source": [
    "round(CAI(rpsU, weights=we),3)"
   ]
  },
  {
   "cell_type": "code",
   "execution_count": null,
   "metadata": {},
   "outputs": [],
   "source": [
    "The CAI module can also accept "
   ]
  },
  {
   "cell_type": "code",
   "execution_count": 17,
   "metadata": {},
   "outputs": [],
   "source": [
    "from pygenome import saccharomyces_cerevisiae as sg"
   ]
  },
  {
   "cell_type": "code",
   "execution_count": 18,
   "metadata": {},
   "outputs": [],
   "source": [
    "GAL4 = str(sg.stdgenes[\"GAL4\"].cds().seq)\n",
    "PPR1 = str(sg.stdgenes[\"PPR1\"].cds().seq)\n",
    "GPD1 = str(sg.stdgenes[\"TDH3\"].cds().seq)"
   ]
  },
  {
   "cell_type": "code",
   "execution_count": 19,
   "metadata": {},
   "outputs": [],
   "source": [
    "cai.set_cai_index(wy)"
   ]
  },
  {
   "cell_type": "code",
   "execution_count": 20,
   "metadata": {},
   "outputs": [
    {
     "name": "stdout",
     "output_type": "stream",
     "text": [
      "0.116\n",
      "0.114\n",
      "0.924\n"
     ]
    }
   ],
   "source": [
    "print(round(cai.cai_for_gene(GAL4),3))\n",
    "print(round(cai.cai_for_gene(PPR1),3))\n",
    "print(round(cai.cai_for_gene(GPD1),3))"
   ]
  },
  {
   "cell_type": "code",
   "execution_count": 21,
   "metadata": {},
   "outputs": [
    {
     "name": "stdout",
     "output_type": "stream",
     "text": [
      "0.116\n",
      "0.115\n",
      "0.924\n"
     ]
    }
   ],
   "source": [
    "print(round(CAI(GAL4, weights=wy),3))\n",
    "print(round(CAI(PPR1, weights=wy),3)) \n",
    "print(round(CAI(GPD1, weights=wy),3)) "
   ]
  },
  {
   "cell_type": "markdown",
   "metadata": {},
   "source": [
    "There was a small differences for PPR1 (<1% for the CAI module) and a lower value for GDP/TDH3 (0.5%), this could perhaps be explained by rounding.\n",
    "\n",
    "Both implementations seem mathematically correct.\n",
    "\n",
    "Some companies such as [Genscript]()\n",
    "offer servieces to optimize a gene for a specific host (for example [here](https://www.genscript.com/tools/rare-codon-analysis)). A part of this analysis involves CAI."
   ]
  },
  {
   "cell_type": "code",
   "execution_count": 22,
   "metadata": {},
   "outputs": [
    {
     "name": "stdout",
     "output_type": "stream",
     "text": [
      "ATGGTTAGAGTTGCTATTAACGGTTTCGGTAGAATCGGTAGATTGGTCATGAGAATTGCTTTGTCTAGACCAAACGTCGAAGTTGTTGCTTTGAACGACCCATTCATCACCAACGACTACGCTGCTTACATGTTCAAGTACGACTCCACTCACGGTAGATACGCTGGTGAAGTTTCCCACGATGACAAGCACATCATTGTCGATGGTAAGAAGATTGCTACTTACCAAGAAAGAGACCCAGCTAACTTGCCATGGGGTTCTTCCAACGTTGACATCGCCATTGACTCCACTGGTGTTTTCAAGGAATTAGACACTGCTCAAAAGCACATTGACGCTGGTGCCAAGAAGGTTGTTATCACTGCTCCATCTTCCACCGCCCCAATGTTCGTCATGGGTGTTAACGAAGAAAAATACACTTCTGACTTGAAGATTGTTTCCAACGCTTCTTGTACCACCAACTGTTTGGCTCCATTGGCCAAGGTTATCAACGATGCTTTCGGTATTGAAGAAGGTTTGATGACCACTGTCCACTCTTTGACTGCTACTCAAAAGACTGTTGACGGTCCATCCCACAAGGACTGGAGAGGTGGTAGAACCGCTTCCGGTAACATCATCCCATCCTCCACCGGTGCTGCTAAGGCTGTCGGTAAGGTCTTGCCAGAATTGCAAGGTAAGTTGACCGGTATGGCTTTCAGAGTCCCAACCGTCGATGTCTCCGTTGTTGACTTGACTGTCAAGTTGAACAAGGAAACCACCTACGATGAAATCAAGAAGGTTGTTAAGGCTGCCGCTGAAGGTAAGTTGAAGGGTGTTTTGGGTTACACCGAAGACGCTGTTGTCTCCTCTGACTTCTTGGGTGACTCTCACTCTTCCATCTTCGATGCTTCCGCTGGTATCCAATTGTCTCCAAAGTTCGTCAAGTTGGTCTCCTGGTACGACAACGAATACGGTTACTCTACCAGAGTTGTCGACTTGGTTGAACACGTTGCCAAGGCTTAA\n"
     ]
    }
   ],
   "source": [
    "print(GPD1)"
   ]
  },
  {
   "cell_type": "markdown",
   "metadata": {},
   "source": [
    "The Genscript website gave very different values (2021-03-17) for the genes, the values are spaced more closely.\n",
    "\n",
    "| gene  \t| Sharp \t| Genscript \t|\n",
    "|-------\t|-------\t|-----------\t|\n",
    "| GAL4  \t| 0.116 \t| 0.71      \t|\n",
    "| PPR1  \t| 0.114 \t| 0.73      \t|\n",
    "| GPD1  \t| 0.929 \t| 0.82      \t|\n",
    "\n",
    "The cause for this could be the use of a different reference dataset. Many datasets for many organisms can be found at the [codon usage database](https://www.kazusa.or.jp/codon). This database uses a text format called \"Kazusa\". \n",
    "\n",
    "CAI reference data for S. cerevisiae can be found [here](https://www.kazusa.or.jp/codon/cgi-bin/showcodon.cgi?species=4932)\n",
    "\n",
    "The setuptools package [python-codon-tables](https://pypi.org/project/python-codon-tables/) should be able to access this data directly:"
   ]
  },
  {
   "cell_type": "code",
   "execution_count": 23,
   "metadata": {},
   "outputs": [],
   "source": [
    "# Remove # below to run pip in jupyter notebook\n",
    "#     %pip install python-codon-tables"
   ]
  },
  {
   "cell_type": "code",
   "execution_count": 27,
   "metadata": {},
   "outputs": [],
   "source": [
    "import python_codon_tables as pct"
   ]
  },
  {
   "cell_type": "code",
   "execution_count": 29,
   "metadata": {},
   "outputs": [
    {
     "data": {
      "text/plain": [
       "['g_gallus_9031',\n",
       " 'b_subtilis_1423',\n",
       " 'd_melanogaster_7227',\n",
       " 'm_musculus_domesticus_10092',\n",
       " 's_cerevisiae_4932',\n",
       " 'c_elegans_6239',\n",
       " 'h_sapiens_9606',\n",
       " 'm_musculus_10090',\n",
       " 'e_coli_316407']"
      ]
     },
     "execution_count": 29,
     "metadata": {},
     "output_type": "execute_result"
    }
   ],
   "source": [
    "pct.available_codon_tables_names"
   ]
  },
  {
   "cell_type": "code",
   "execution_count": 30,
   "metadata": {},
   "outputs": [],
   "source": [
    "table = pct.get_codons_table('s_cerevisiae_4932')"
   ]
  },
  {
   "cell_type": "code",
   "execution_count": 39,
   "metadata": {},
   "outputs": [
    {
     "data": {
      "text/plain": [
       "{'*': {'TAA': 0.47, 'TAG': 0.23, 'TGA': 0.3},\n",
       " 'A': {'GCA': 0.29, 'GCC': 0.22, 'GCG': 0.11, 'GCT': 0.38},\n",
       " 'C': {'TGC': 0.37, 'TGT': 0.63},\n",
       " 'D': {'GAC': 0.35, 'GAT': 0.65},\n",
       " 'E': {'GAA': 0.7, 'GAG': 0.3},\n",
       " 'F': {'TTC': 0.41, 'TTT': 0.59},\n",
       " 'G': {'GGA': 0.22, 'GGC': 0.19, 'GGG': 0.12, 'GGT': 0.47},\n",
       " 'H': {'CAC': 0.36, 'CAT': 0.64},\n",
       " 'I': {'ATA': 0.27, 'ATC': 0.26, 'ATT': 0.46},\n",
       " 'K': {'AAA': 0.58, 'AAG': 0.42},\n",
       " 'L': {'CTA': 0.14,\n",
       "  'CTC': 0.06,\n",
       "  'CTG': 0.11,\n",
       "  'CTT': 0.13,\n",
       "  'TTA': 0.28,\n",
       "  'TTG': 0.29},\n",
       " 'M': {'ATG': 1.0},\n",
       " 'N': {'AAC': 0.41, 'AAT': 0.59},\n",
       " 'P': {'CCA': 0.42, 'CCC': 0.15, 'CCG': 0.12, 'CCT': 0.31},\n",
       " 'Q': {'CAA': 0.69, 'CAG': 0.31},\n",
       " 'R': {'AGA': 0.48,\n",
       "  'AGG': 0.21,\n",
       "  'CGA': 0.07,\n",
       "  'CGC': 0.06,\n",
       "  'CGG': 0.04,\n",
       "  'CGT': 0.14},\n",
       " 'S': {'AGC': 0.11,\n",
       "  'AGT': 0.16,\n",
       "  'TCA': 0.21,\n",
       "  'TCC': 0.16,\n",
       "  'TCG': 0.1,\n",
       "  'TCT': 0.26},\n",
       " 'T': {'ACA': 0.3, 'ACC': 0.22, 'ACG': 0.14, 'ACT': 0.35},\n",
       " 'V': {'GTA': 0.21, 'GTC': 0.21, 'GTG': 0.19, 'GTT': 0.39},\n",
       " 'W': {'TGG': 1.0},\n",
       " 'Y': {'TAC': 0.44, 'TAT': 0.56}}"
      ]
     },
     "execution_count": 39,
     "metadata": {},
     "output_type": "execute_result"
    }
   ],
   "source": [
    "table"
   ]
  },
  {
   "cell_type": "markdown",
   "metadata": {},
   "source": [
    "this format does not seem to be directly compatible with CAI or biopython modules. We can fix this:"
   ]
  },
  {
   "cell_type": "code",
   "execution_count": 47,
   "metadata": {},
   "outputs": [],
   "source": [
    "kazusaw = {}\n",
    "for dct in table.values():\n",
    "    for trip, w in dct.items():\n",
    "        kazusaw[trip] = w "
   ]
  },
  {
   "cell_type": "markdown",
   "metadata": {},
   "source": [
    "The resulting dict weights has the correct format for the CAI and biopython modules. "
   ]
  },
  {
   "cell_type": "code",
   "execution_count": 48,
   "metadata": {},
   "outputs": [
    {
     "name": "stdout",
     "output_type": "stream",
     "text": [
      "{'TAA': 0.47, 'TAG': 0.23, 'TGA': 0.3, 'GCA': 0.29, 'GCC': 0.22, 'GCG': 0.11, 'GCT': 0.38, 'TGC': 0.37, 'TGT': 0.63, 'GAC': 0.35, 'GAT': 0.65, 'GAA': 0.7, 'GAG': 0.3, 'TTC': 0.41, 'TTT': 0.59, 'GGA': 0.22, 'GGC': 0.19, 'GGG': 0.12, 'GGT': 0.47, 'CAC': 0.36, 'CAT': 0.64, 'ATA': 0.27, 'ATC': 0.26, 'ATT': 0.46, 'AAA': 0.58, 'AAG': 0.42, 'CTA': 0.14, 'CTC': 0.06, 'CTG': 0.11, 'CTT': 0.13, 'TTA': 0.28, 'TTG': 0.29, 'ATG': 1.0, 'AAC': 0.41, 'AAT': 0.59, 'CCA': 0.42, 'CCC': 0.15, 'CCG': 0.12, 'CCT': 0.31, 'CAA': 0.69, 'CAG': 0.31, 'AGA': 0.48, 'AGG': 0.21, 'CGA': 0.07, 'CGC': 0.06, 'CGG': 0.04, 'CGT': 0.14, 'AGC': 0.11, 'AGT': 0.16, 'TCA': 0.21, 'TCC': 0.16, 'TCG': 0.1, 'TCT': 0.26, 'ACA': 0.3, 'ACC': 0.22, 'ACG': 0.14, 'ACT': 0.35, 'GTA': 0.21, 'GTC': 0.21, 'GTG': 0.19, 'GTT': 0.39, 'TGG': 1.0, 'TAC': 0.44, 'TAT': 0.56}\n"
     ]
    }
   ],
   "source": [
    "print(kazusaw)"
   ]
  },
  {
   "cell_type": "code",
   "execution_count": 49,
   "metadata": {},
   "outputs": [],
   "source": [
    "cai.set_cai_index(kazusaw)"
   ]
  },
  {
   "cell_type": "code",
   "execution_count": 53,
   "metadata": {},
   "outputs": [
    {
     "name": "stdout",
     "output_type": "stream",
     "text": [
      "0.31\n",
      "0.327\n",
      "0.362\n"
     ]
    }
   ],
   "source": [
    "print(round(cai.cai_for_gene(GAL4),3))\n",
    "print(round(cai.cai_for_gene(PPR1),3))\n",
    "print(round(cai.cai_for_gene(GPD1),3))"
   ]
  },
  {
   "cell_type": "code",
   "execution_count": 54,
   "metadata": {},
   "outputs": [
    {
     "name": "stdout",
     "output_type": "stream",
     "text": [
      "0.311\n",
      "0.327\n",
      "0.363\n"
     ]
    }
   ],
   "source": [
    "print(round(CAI(GAL4, weights=kazusaw),3))\n",
    "print(round(CAI(PPR1, weights=kazusaw),3)) \n",
    "print(round(CAI(GPD1, weights=kazusaw),3)) "
   ]
  },
  {
   "cell_type": "markdown",
   "metadata": {},
   "source": [
    "The results do not compare well."
   ]
  },
  {
   "cell_type": "markdown",
   "metadata": {},
   "source": [
    "This service \n",
    "\n",
    "[CAIcal SERVER](http://genomes.urv.es/CAIcal)\n",
    "\n",
    "https://wiki.yeastgenome.org/index.php/S._cerevisiae_Codon_Usage_Tables\n",
    "\n",
    "\n",
    "    Saccharomyces cerevisiae [gbpln]: 14411 CDS's (6534504 codons)\n",
    "    fields: [triplet] [frequency: per thousand] ([number])\n",
    "    UUU 26.1(170666)  UCU 23.5(153557)  UAU 18.8(122728)  UGU  8.1( 52903)\n",
    "    UUC 18.4(120510)  UCC 14.2( 92923)  UAC 14.8( 96596)  UGC  4.8( 31095)\n",
    "    UUA 26.2(170884)  UCA 18.7(122028)  UAA  1.1(  6913)  UGA  0.7(  4447)\n",
    "    UUG 27.2(177573)  UCG  8.6( 55951)  UAG  0.5(  3312)  UGG 10.4( 67789)\n",
    "\n",
    "    CUU 12.3( 80076)  CCU 13.5( 88263)  CAU 13.6( 89007)  CGU  6.4( 41791)\n",
    "    CUC  5.4( 35545)  CCC  6.8( 44309)  CAC  7.8( 50785)  CGC  2.6( 16993)\n",
    "    CUA 13.4( 87619)  CCA 18.3(119641)  CAA 27.3(178251)  CGA  3.0( 19562)\n",
    "    CUG 10.5( 68494)  CCG  5.3( 34597)  CAG 12.1( 79121)  CGG  1.7( 11351)\n",
    "\n",
    "    AUU 30.1(196893)  ACU 20.3(132522)  AAU 35.7(233124)  AGU 14.2( 92466)\n",
    "    AUC 17.2(112176)  ACC 12.7( 83207)  AAC 24.8(162199)  AGC  9.8( 63726)\n",
    "    AUA 17.8(116254)  ACA 17.8(116084)  AAA 41.9(273618)  AGA 21.3(139081)\n",
    "    AUG 20.9(136805)  ACG  8.0( 52045)  AAG 30.8(201361)  AGG  9.2( 60289)\n",
    "\n",
    "    GUU 22.1(144243)  GCU 21.2(138358)  GAU 37.6(245641)  GGU 23.9(156109)\n",
    "    GUC 11.8( 76947)  GCC 12.6( 82357)  GAC 20.2(132048)  GGC  9.8( 63903)\n",
    "    GUA 11.8( 76927)  GCA 16.2(105910)  GAA 45.6(297944)  GGA 10.9( 71216)\n",
    "    GUG 10.8( 70337)  GCG  6.2( 40358)  GAG 19.2(125717)  GGG  6.0( 39359)\n",
    "\n",
    "\n",
    "\n",
    "![](GAL4b.png)\n",
    "![](PPR1.png)\n",
    "![](TDH3.png)\n"
   ]
  },
  {
   "cell_type": "markdown",
   "metadata": {},
   "source": [
    "| gene  \t| Sharp \t| Genscript \t| CAIcal |\n",
    "|-------\t|-------\t|-----------\t| ------ |\n",
    "| GAL4  \t| 0.116 \t| 0.71      \t| 0.761  |\n",
    "| PPR1  \t| 0.114 \t| 0.73      \t| 0.770  |\n",
    "| GPD1  \t| 0.929 \t| 0.82      \t| 0.813  |"
   ]
  },
  {
   "cell_type": "code",
   "execution_count": null,
   "metadata": {},
   "outputs": [],
   "source": []
  }
 ],
 "metadata": {
  "kernelspec": {
   "display_name": "Python [conda env:bjorn39]",
   "language": "python",
   "name": "conda-env-bjorn39-py"
  },
  "language_info": {
   "codemirror_mode": {
    "name": "ipython",
    "version": 3
   },
   "file_extension": ".py",
   "mimetype": "text/x-python",
   "name": "python",
   "nbconvert_exporter": "python",
   "pygments_lexer": "ipython3",
   "version": "3.9.7"
  }
 },
 "nbformat": 4,
 "nbformat_minor": 4
}

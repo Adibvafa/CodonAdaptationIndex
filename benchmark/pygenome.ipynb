{
 "cells": [
  {
   "cell_type": "markdown",
   "metadata": {},
   "source": [
    "## Jupyter notebook\n",
    "comment"
   ]
  },
  {
   "cell_type": "code",
   "execution_count": 10,
   "metadata": {},
   "outputs": [],
   "source": [
    "from pygenome import saccharomyces_cerevisiae as sg"
   ]
  },
  {
   "cell_type": "code",
   "execution_count": 11,
   "metadata": {},
   "outputs": [],
   "source": [
    "testgenes = [\"TDH3\", \"PGK1\", \"TEF1\"]"
   ]
  },
  {
   "cell_type": "code",
   "execution_count": 12,
   "metadata": {},
   "outputs": [],
   "source": [
    "testseqs = [sg.stdgenes[g] for g in testgenes]"
   ]
  },
  {
   "cell_type": "code",
   "execution_count": 13,
   "metadata": {},
   "outputs": [],
   "source": [
    "from Bio.SeqUtils.CodonUsageIndices import SharpEcoliIndex"
   ]
  },
  {
   "cell_type": "code",
   "execution_count": 14,
   "metadata": {},
   "outputs": [
    {
     "data": {
      "text/plain": [
       "{'GCA': 0.586,\n",
       " 'GCC': 0.122,\n",
       " 'GCG': 0.424,\n",
       " 'GCT': 1,\n",
       " 'AGA': 0.004,\n",
       " 'AGG': 0.002,\n",
       " 'CGA': 0.004,\n",
       " 'CGC': 0.356,\n",
       " 'CGG': 0.004,\n",
       " 'CGT': 1,\n",
       " 'AAC': 1,\n",
       " 'AAT': 0.051,\n",
       " 'GAC': 1,\n",
       " 'GAT': 0.434,\n",
       " 'TGC': 1,\n",
       " 'TGT': 0.5,\n",
       " 'CAA': 0.124,\n",
       " 'CAG': 1,\n",
       " 'GAA': 1,\n",
       " 'GAG': 0.259,\n",
       " 'GGA': 0.01,\n",
       " 'GGC': 0.724,\n",
       " 'GGG': 0.019,\n",
       " 'GGT': 1,\n",
       " 'CAC': 1,\n",
       " 'CAT': 0.291,\n",
       " 'ATA': 0.003,\n",
       " 'ATC': 1,\n",
       " 'ATT': 0.185,\n",
       " 'CTA': 0.007,\n",
       " 'CTC': 0.037,\n",
       " 'CTG': 1,\n",
       " 'CTT': 0.042,\n",
       " 'TTA': 0.02,\n",
       " 'TTG': 0.02,\n",
       " 'AAA': 1,\n",
       " 'AAG': 0.253,\n",
       " 'ATG': 1,\n",
       " 'TTC': 1,\n",
       " 'TTT': 0.296,\n",
       " 'CCA': 0.135,\n",
       " 'CCC': 0.012,\n",
       " 'CCG': 1,\n",
       " 'CCT': 0.07,\n",
       " 'AGC': 0.41,\n",
       " 'AGT': 0.085,\n",
       " 'TCA': 0.077,\n",
       " 'TCC': 0.744,\n",
       " 'TCG': 0.017,\n",
       " 'TCT': 1,\n",
       " 'ACA': 0.076,\n",
       " 'ACC': 1,\n",
       " 'ACG': 0.099,\n",
       " 'ACT': 0.965,\n",
       " 'TGG': 1,\n",
       " 'TAC': 1,\n",
       " 'TAT': 0.239,\n",
       " 'GTA': 0.495,\n",
       " 'GTC': 0.066,\n",
       " 'GTG': 0.221,\n",
       " 'GTT': 1}"
      ]
     },
     "execution_count": 14,
     "metadata": {},
     "output_type": "execute_result"
    }
   ],
   "source": [
    "SharpEcoliIndex"
   ]
  },
  {
   "cell_type": "code",
   "execution_count": 20,
   "metadata": {},
   "outputs": [
    {
     "data": {
      "text/plain": [
       "28.488000000000007"
      ]
     },
     "execution_count": 20,
     "metadata": {},
     "output_type": "execute_result"
    }
   ],
   "source": [
    "sum(SharpEcoliIndex.values())"
   ]
  },
  {
   "cell_type": "code",
   "execution_count": 15,
   "metadata": {},
   "outputs": [],
   "source": [
    "from Bio.SeqUtils.CodonUsage import CodonAdaptationIndex"
   ]
  },
  {
   "cell_type": "code",
   "execution_count": 16,
   "metadata": {},
   "outputs": [],
   "source": [
    "cai = CodonAdaptationIndex()"
   ]
  },
  {
   "cell_type": "code",
   "execution_count": 17,
   "metadata": {},
   "outputs": [],
   "source": [
    "cai.set_cai_index(SharpEcoliIndex)"
   ]
  },
  {
   "cell_type": "code",
   "execution_count": 18,
   "metadata": {},
   "outputs": [
    {
     "data": {
      "text/plain": [
       "1.0"
      ]
     },
     "execution_count": 18,
     "metadata": {},
     "output_type": "execute_result"
    }
   ],
   "source": [
    "cai.cai_for_gene(\"TGG\")"
   ]
  },
  {
   "cell_type": "code",
   "execution_count": null,
   "metadata": {},
   "outputs": [],
   "source": []
  },
  {
   "cell_type": "code",
   "execution_count": null,
   "metadata": {},
   "outputs": [],
   "source": []
  }
 ],
 "metadata": {
  "anaconda-cloud": {},
  "kernelspec": {
   "display_name": "Python [conda env:bjorn38]",
   "language": "python",
   "name": "conda-env-bjorn38-py"
  },
  "language_info": {
   "codemirror_mode": {
    "name": "ipython",
    "version": 3
   },
   "file_extension": ".py",
   "mimetype": "text/x-python",
   "name": "python",
   "nbconvert_exporter": "python",
   "pygments_lexer": "ipython3",
   "version": "3.8.5"
  }
 },
 "nbformat": 4,
 "nbformat_minor": 4
}

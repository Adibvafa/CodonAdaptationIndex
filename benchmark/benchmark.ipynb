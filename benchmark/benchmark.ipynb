{
 "cells": [
  {
   "cell_type": "markdown",
   "metadata": {},
   "source": [
    "# Comparison between `CAI` and `Biopython` Performance\n",
    "\n",
    "To see how Biopython and CAI perform, we're going to benchmark them. First, let's get the latest version of `CAI`."
   ]
  },
  {
   "cell_type": "code",
   "execution_count": 1,
   "metadata": {},
   "outputs": [
    {
     "name": "stdout",
     "output_type": "stream",
     "text": [
      "Obtaining file:///Users/BenjaminLee/Desktop/Python/Research/cai/CodonAdaptionIndex\n",
      "Requirement already satisfied: scipy in /Users/BenjaminLee/Desktop/Python/Research/cai/env/lib/python3.6/site-packages (from CAI==0.1.8) (1.1.0)\n",
      "Requirement already satisfied: biopython in /Users/BenjaminLee/Desktop/Python/Research/cai/env/lib/python3.6/site-packages (from CAI==0.1.8) (1.71)\n",
      "Requirement already satisfied: click in /Users/BenjaminLee/Desktop/Python/Research/cai/env/lib/python3.6/site-packages (from CAI==0.1.8) (6.7)\n",
      "Requirement already satisfied: numpy>=1.8.2 in /Users/BenjaminLee/Desktop/Python/Research/cai/env/lib/python3.6/site-packages (from scipy->CAI==0.1.8) (1.14.3)\n",
      "Installing collected packages: CAI\n",
      "  Found existing installation: CAI 0.1.8\n",
      "    Uninstalling CAI-0.1.8:\n",
      "      Successfully uninstalled CAI-0.1.8\n",
      "  Running setup.py develop for CAI\n",
      "Successfully installed CAI\n"
     ]
    }
   ],
   "source": [
    "! pip install -e ../"
   ]
  },
  {
   "cell_type": "markdown",
   "metadata": {},
   "source": [
    "Now, we'll import the two libraries."
   ]
  },
  {
   "cell_type": "code",
   "execution_count": 2,
   "metadata": {},
   "outputs": [],
   "source": [
    "from Bio import SeqIO\n",
    "\n",
    "from CAI import CAI, relative_adaptiveness\n",
    "from Bio.SeqUtils import CodonUsage"
   ]
  },
  {
   "cell_type": "markdown",
   "metadata": {},
   "source": [
    "We're going to use the highly expressed genes of _E. coli_ for our reference set as well as a test set of 100 3000bp CDSs generated from the [Sequence Manipulation Site](http://www.bioinformatics.org/sms2/random_coding_dna.html)."
   ]
  },
  {
   "cell_type": "code",
   "execution_count": 3,
   "metadata": {},
   "outputs": [],
   "source": [
    "reference = [str(seq.seq) for seq in SeqIO.parse(\"ecoli.heg.fasta\", \"fasta\")]\n",
    "sequence = [str(seq.seq) for seq in SeqIO.parse(\"test.fasta\", \"fasta\")]"
   ]
  },
  {
   "cell_type": "markdown",
   "metadata": {},
   "source": [
    "## `Biopython`"
   ]
  },
  {
   "cell_type": "code",
   "execution_count": 4,
   "metadata": {},
   "outputs": [
    {
     "name": "stdout",
     "output_type": "stream",
     "text": [
      "777 ms ± 36.1 ms per loop (mean ± std. dev. of 7 runs, 1 loop each)\n"
     ]
    }
   ],
   "source": [
    "bp = CodonUsage.CodonAdaptationIndex()\n",
    "bp.generate_index(\"ecoli.heg.fasta\")\n",
    "%timeit [bp.cai_for_gene(seq) for seq in sequence]"
   ]
  },
  {
   "cell_type": "markdown",
   "metadata": {},
   "source": [
    "## `CAI`"
   ]
  },
  {
   "cell_type": "code",
   "execution_count": 5,
   "metadata": {},
   "outputs": [
    {
     "name": "stdout",
     "output_type": "stream",
     "text": [
      "469 ms ± 18.5 ms per loop (mean ± std. dev. of 7 runs, 1 loop each)\n"
     ]
    }
   ],
   "source": [
    "weights = relative_adaptiveness(sequences=sequence)\n",
    "%timeit [CAI(seq, weights=weights) for seq in sequence]"
   ]
  }
 ],
 "metadata": {
  "kernelspec": {
   "display_name": "Python [conda env:bjorn39]",
   "language": "python",
   "name": "conda-env-bjorn39-py"
  },
  "language_info": {
   "codemirror_mode": {
    "name": "ipython",
    "version": 3
   },
   "file_extension": ".py",
   "mimetype": "text/x-python",
   "name": "python",
   "nbconvert_exporter": "python",
   "pygments_lexer": "ipython3",
   "version": "3.9.7"
  }
 },
 "nbformat": 4,
 "nbformat_minor": 4
}
